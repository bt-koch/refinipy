{
 "cells": [
  {
   "cell_type": "code",
   "execution_count": 1,
   "metadata": {},
   "outputs": [],
   "source": [
    "import sys\n",
    "sys.path.append(\"../\")\n",
    "import get_data\n",
    "import config\n",
    "import utils"
   ]
  },
  {
   "cell_type": "code",
   "execution_count": 2,
   "metadata": {},
   "outputs": [
    {
     "name": "stdout",
     "output_type": "stream",
     "text": [
      "test2 asdf\n"
     ]
    }
   ],
   "source": [
    "get_data.test2()"
   ]
  },
  {
   "cell_type": "code",
   "execution_count": 3,
   "metadata": {},
   "outputs": [],
   "source": [
    "config.connect()"
   ]
  },
  {
   "cell_type": "code",
   "execution_count": 4,
   "metadata": {},
   "outputs": [],
   "source": [
    "banks_meta = get_data.read_meta()"
   ]
  },
  {
   "cell_type": "code",
   "execution_count": 5,
   "metadata": {},
   "outputs": [
    {
     "name": "stdout",
     "output_type": "stream",
     "text": [
      "no RIC available for Piraeus Financial Holdings S.A.\n",
      "no RIC available for Bank of Cyprus Holdings Public Limited Company\n",
      "no RIC available for Akcinė bendrovė Šiaulių bankas\n",
      "no RIC available for BAWAG Group AG\n",
      "no RIC available for Erste Group Bank AG\n",
      "no RIC available for Raiffeisen Bank International AG\n",
      "no RIC available for Banco Comercial Português, S.A.\n",
      "no RIC available for Nova Ljubljanska banka d.d., Ljubljana\n"
     ]
    },
    {
     "data": {
      "text/plain": [
       "['JPM.N', 'BAC.N', 'C.N', 'HSBC.N', '3988.HK']"
      ]
     },
     "execution_count": 5,
     "metadata": {},
     "output_type": "execute_result"
    }
   ],
   "source": [
    "ric_equity = get_data.ric_equity(banks_meta)\n",
    "ric_equity[0:5]"
   ]
  },
  {
   "cell_type": "code",
   "execution_count": 6,
   "metadata": {},
   "outputs": [
    {
     "data": {
      "text/plain": [
       "['JPM5YUSAX=R', 'BAC5YUSAX=R', 'C5YUSAX=R', 'HSBA5YEUAM=R', 'BKCH5YUSAC=R']"
      ]
     },
     "execution_count": 6,
     "metadata": {},
     "output_type": "execute_result"
    }
   ],
   "source": [
    "ric_cds = get_data.ric_cds(ric_equity)\n",
    "ric_cds[0:5]"
   ]
  },
  {
   "cell_type": "code",
   "execution_count": 7,
   "metadata": {},
   "outputs": [
    {
     "name": "stderr",
     "output_type": "stream",
     "text": [
      "2024-04-18 16:45:03,383 P[50660] [MainThread 8400272064] Backend error. 500 Internal Server Error\n",
      "2024-04-18 16:45:33,917 P[50660] [MainThread 8400272064] Error with MTFB5YJPAC=R: No data available for the requested date range\n",
      "2024-04-18 16:45:33,918 P[50660] [MainThread 8400272064] MTFB5YJPAC=R: No data available for the requested date range | \n",
      "2024-04-18 16:45:34,467 P[50660] [MainThread 8400272064] Error with MTFB5YJPAC=R: No data available for the requested date range\n",
      "2024-04-18 16:45:34,469 P[50660] [MainThread 8400272064] MTFB5YJPAC=R: No data available for the requested date range | \n",
      "2024-04-18 16:45:34,656 P[50660] [MainThread 8400272064] Error with AGBK5YUSAC=: No data available for the requested date range\n",
      "2024-04-18 16:45:34,656 P[50660] [MainThread 8400272064] AGBK5YUSAC=: No data available for the requested date range | \n",
      "2024-04-18 16:45:34,966 P[50660] [MainThread 8400272064] Error with AGBK5YUSAC=: No data available for the requested date range\n",
      "2024-04-18 16:45:34,967 P[50660] [MainThread 8400272064] AGBK5YUSAC=: No data available for the requested date range | \n",
      "2024-04-18 16:45:35,382 P[50660] [MainThread 8400272064] Error with BK5YUSAX=MG: No data available for the requested date range\n",
      "2024-04-18 16:45:35,383 P[50660] [MainThread 8400272064] BK5YUSAX=MG: No data available for the requested date range | \n",
      "2024-04-18 16:45:38,410 P[50660] [MainThread 8400272064] Error with MZFG5YJPAC=: No data available for the requested date range\n",
      "2024-04-18 16:45:38,411 P[50660] [MainThread 8400272064] MZFG5YJPAC=: No data available for the requested date range | \n",
      "2024-04-18 16:45:39,102 P[50660] [MainThread 8400272064] Error with RY5YUSAX=R: No data available for the requested date range\n",
      "2024-04-18 16:45:39,103 P[50660] [MainThread 8400272064] RY5YUSAX=R: No data available for the requested date range | \n",
      "2024-04-18 16:45:39,328 P[50660] [MainThread 8400272064] Error with RY5YUSAX=R: No data available for the requested date range\n",
      "2024-04-18 16:45:39,329 P[50660] [MainThread 8400272064] RY5YUSAX=R: No data available for the requested date range | \n",
      "2024-04-18 16:45:41,932 P[50660] [MainThread 8400272064] Error with SUMB5YUSAC=MP: The user does not have permission for the requested data\n",
      "2024-04-18 16:45:41,933 P[50660] [MainThread 8400272064] SUMB5YUSAC=MP: The user does not have permission for the requested data | \n",
      "2024-04-18 16:45:42,159 P[50660] [MainThread 8400272064] Error with SUMB5YUSAC=MP: The user does not have permission for the requested data\n",
      "2024-04-18 16:45:42,160 P[50660] [MainThread 8400272064] SUMB5YUSAC=MP: The user does not have permission for the requested data | \n",
      "2024-04-18 16:45:49,124 P[50660] [MainThread 8400272064] Error with KBC5YEUAM=MP: The user does not have permission for the requested data\n",
      "2024-04-18 16:45:49,125 P[50660] [MainThread 8400272064] KBC5YEUAM=MP: The user does not have permission for the requested data | \n",
      "2024-04-18 16:45:51,667 P[50660] [MainThread 8400272064] Error with ACBA5YEUAM=TU: No data available for the requested date range\n",
      "2024-04-18 16:45:51,668 P[50660] [MainThread 8400272064] ACBA5YEUAM=TU: No data available for the requested date range | \n",
      "2024-04-18 16:45:58,936 P[50660] [MainThread 8400272064] Error with CABM5YEUAM=MP: The user does not have permission for the requested data\n",
      "2024-04-18 16:45:58,936 P[50660] [MainThread 8400272064] CABM5YEUAM=MP: The user does not have permission for the requested data | \n",
      "2024-04-18 16:46:20,843 P[50660] [MainThread 8400272064] UDF Core request failed. Gateway Time-out\n",
      "2024-04-18 16:46:39,990 P[50660] [MainThread 8400272064] UDF Core request failed. Gateway Time-out\n"
     ]
    },
    {
     "data": {
      "text/html": [
       "<div>\n",
       "<style scoped>\n",
       "    .dataframe tbody tr th:only-of-type {\n",
       "        vertical-align: middle;\n",
       "    }\n",
       "\n",
       "    .dataframe tbody tr th {\n",
       "        vertical-align: top;\n",
       "    }\n",
       "\n",
       "    .dataframe thead th {\n",
       "        text-align: right;\n",
       "    }\n",
       "</style>\n",
       "<table border=\"1\" class=\"dataframe\">\n",
       "  <thead>\n",
       "    <tr style=\"text-align: right;\">\n",
       "      <th></th>\n",
       "      <th>date</th>\n",
       "      <th>value</th>\n",
       "      <th>ric</th>\n",
       "    </tr>\n",
       "  </thead>\n",
       "  <tbody>\n",
       "    <tr>\n",
       "      <th>0</th>\n",
       "      <td>2012-01-02 00:00:00</td>\n",
       "      <td>142.31</td>\n",
       "      <td>JPM5YUSAX=R</td>\n",
       "    </tr>\n",
       "    <tr>\n",
       "      <th>1</th>\n",
       "      <td>2012-01-03 00:00:00</td>\n",
       "      <td>136.5</td>\n",
       "      <td>JPM5YUSAX=R</td>\n",
       "    </tr>\n",
       "    <tr>\n",
       "      <th>2</th>\n",
       "      <td>2012-01-04 00:00:00</td>\n",
       "      <td>136.89</td>\n",
       "      <td>JPM5YUSAX=R</td>\n",
       "    </tr>\n",
       "    <tr>\n",
       "      <th>3</th>\n",
       "      <td>2012-01-05 00:00:00</td>\n",
       "      <td>134.95</td>\n",
       "      <td>JPM5YUSAX=R</td>\n",
       "    </tr>\n",
       "    <tr>\n",
       "      <th>4</th>\n",
       "      <td>2012-01-06 00:00:00</td>\n",
       "      <td>129.09</td>\n",
       "      <td>JPM5YUSAX=R</td>\n",
       "    </tr>\n",
       "    <tr>\n",
       "      <th>...</th>\n",
       "      <td>...</td>\n",
       "      <td>...</td>\n",
       "      <td>...</td>\n",
       "    </tr>\n",
       "    <tr>\n",
       "      <th>2557</th>\n",
       "      <td>2021-11-09 00:00:00</td>\n",
       "      <td>59.58</td>\n",
       "      <td>BCIN5YEUAM=R</td>\n",
       "    </tr>\n",
       "    <tr>\n",
       "      <th>2558</th>\n",
       "      <td>2021-11-10 00:00:00</td>\n",
       "      <td>59.58</td>\n",
       "      <td>BCIN5YEUAM=R</td>\n",
       "    </tr>\n",
       "    <tr>\n",
       "      <th>2559</th>\n",
       "      <td>2021-11-11 00:00:00</td>\n",
       "      <td>60.58</td>\n",
       "      <td>BCIN5YEUAM=R</td>\n",
       "    </tr>\n",
       "    <tr>\n",
       "      <th>0</th>\n",
       "      <td>2012-01-01</td>\n",
       "      <td>&lt;NA&gt;</td>\n",
       "      <td>MDBI5YEUAM=R</td>\n",
       "    </tr>\n",
       "    <tr>\n",
       "      <th>0</th>\n",
       "      <td>2012-01-01</td>\n",
       "      <td>&lt;NA&gt;</td>\n",
       "      <td>AAHR5YEUAM=MP</td>\n",
       "    </tr>\n",
       "  </tbody>\n",
       "</table>\n",
       "<p>80811 rows × 3 columns</p>\n",
       "</div>"
      ],
      "text/plain": [
       "                     date   value            ric\n",
       "0     2012-01-02 00:00:00  142.31    JPM5YUSAX=R\n",
       "1     2012-01-03 00:00:00   136.5    JPM5YUSAX=R\n",
       "2     2012-01-04 00:00:00  136.89    JPM5YUSAX=R\n",
       "3     2012-01-05 00:00:00  134.95    JPM5YUSAX=R\n",
       "4     2012-01-06 00:00:00  129.09    JPM5YUSAX=R\n",
       "...                   ...     ...            ...\n",
       "2557  2021-11-09 00:00:00   59.58   BCIN5YEUAM=R\n",
       "2558  2021-11-10 00:00:00   59.58   BCIN5YEUAM=R\n",
       "2559  2021-11-11 00:00:00   60.58   BCIN5YEUAM=R\n",
       "0              2012-01-01    <NA>   MDBI5YEUAM=R\n",
       "0              2012-01-01    <NA>  AAHR5YEUAM=MP\n",
       "\n",
       "[80811 rows x 3 columns]"
      ]
     },
     "execution_count": 7,
     "metadata": {},
     "output_type": "execute_result"
    }
   ],
   "source": [
    "cds = get_data.get_cds(ric_cds)\n",
    "cds"
   ]
  },
  {
   "cell_type": "code",
   "execution_count": 8,
   "metadata": {},
   "outputs": [],
   "source": [
    "utils.export_csv(cds, \"dataset_cds\")"
   ]
  },
  {
   "cell_type": "code",
   "execution_count": 9,
   "metadata": {},
   "outputs": [
    {
     "data": {
      "text/html": [
       "<div>\n",
       "<style scoped>\n",
       "    .dataframe tbody tr th:only-of-type {\n",
       "        vertical-align: middle;\n",
       "    }\n",
       "\n",
       "    .dataframe tbody tr th {\n",
       "        vertical-align: top;\n",
       "    }\n",
       "\n",
       "    .dataframe thead th {\n",
       "        text-align: right;\n",
       "    }\n",
       "</style>\n",
       "<table border=\"1\" class=\"dataframe\">\n",
       "  <thead>\n",
       "    <tr style=\"text-align: right;\">\n",
       "      <th></th>\n",
       "      <th>ric</th>\n",
       "      <th>date</th>\n",
       "      <th>value</th>\n",
       "    </tr>\n",
       "  </thead>\n",
       "  <tbody>\n",
       "    <tr>\n",
       "      <th>0</th>\n",
       "      <td>JPM.N</td>\n",
       "      <td>2024-04-17T00:00:00Z</td>\n",
       "      <td>1.6858668109814</td>\n",
       "    </tr>\n",
       "    <tr>\n",
       "      <th>1</th>\n",
       "      <td>JPM.N</td>\n",
       "      <td>2024-04-16T00:00:00Z</td>\n",
       "      <td>1.69260728246022</td>\n",
       "    </tr>\n",
       "    <tr>\n",
       "      <th>2</th>\n",
       "      <td>JPM.N</td>\n",
       "      <td>2024-04-15T00:00:00Z</td>\n",
       "      <td>1.71217337328069</td>\n",
       "    </tr>\n",
       "    <tr>\n",
       "      <th>3</th>\n",
       "      <td>JPM.N</td>\n",
       "      <td>2024-04-12T00:00:00Z</td>\n",
       "      <td>1.71123719668641</td>\n",
       "    </tr>\n",
       "    <tr>\n",
       "      <th>4</th>\n",
       "      <td>JPM.N</td>\n",
       "      <td>2024-04-11T00:00:00Z</td>\n",
       "      <td>1.87099512445476</td>\n",
       "    </tr>\n",
       "    <tr>\n",
       "      <th>...</th>\n",
       "      <td>...</td>\n",
       "      <td>...</td>\n",
       "      <td>...</td>\n",
       "    </tr>\n",
       "    <tr>\n",
       "      <th>96421</th>\n",
       "      <td>ABNd.AS</td>\n",
       "      <td>2018-08-10T00:00:00Z</td>\n",
       "      <td>1.1486174648394</td>\n",
       "    </tr>\n",
       "    <tr>\n",
       "      <th>96422</th>\n",
       "      <td>ABNd.AS</td>\n",
       "      <td>2018-08-09T00:00:00Z</td>\n",
       "      <td>1.19063409690073</td>\n",
       "    </tr>\n",
       "    <tr>\n",
       "      <th>96423</th>\n",
       "      <td>ABNd.AS</td>\n",
       "      <td>2018-08-08T00:00:00Z</td>\n",
       "      <td>1.17939709065177</td>\n",
       "    </tr>\n",
       "    <tr>\n",
       "      <th>96424</th>\n",
       "      <td>ABNd.AS</td>\n",
       "      <td>2018-08-07T00:00:00Z</td>\n",
       "      <td>1.12850306300262</td>\n",
       "    </tr>\n",
       "    <tr>\n",
       "      <th>96425</th>\n",
       "      <td>ABNd.AS</td>\n",
       "      <td>2018-08-06T00:00:00Z</td>\n",
       "      <td>1.12898677627438</td>\n",
       "    </tr>\n",
       "  </tbody>\n",
       "</table>\n",
       "<p>96426 rows × 3 columns</p>\n",
       "</div>"
      ],
      "text/plain": [
       "           ric                  date             value\n",
       "0        JPM.N  2024-04-17T00:00:00Z   1.6858668109814\n",
       "1        JPM.N  2024-04-16T00:00:00Z  1.69260728246022\n",
       "2        JPM.N  2024-04-15T00:00:00Z  1.71217337328069\n",
       "3        JPM.N  2024-04-12T00:00:00Z  1.71123719668641\n",
       "4        JPM.N  2024-04-11T00:00:00Z  1.87099512445476\n",
       "...        ...                   ...               ...\n",
       "96421  ABNd.AS  2018-08-10T00:00:00Z   1.1486174648394\n",
       "96422  ABNd.AS  2018-08-09T00:00:00Z  1.19063409690073\n",
       "96423  ABNd.AS  2018-08-08T00:00:00Z  1.17939709065177\n",
       "96424  ABNd.AS  2018-08-07T00:00:00Z  1.12850306300262\n",
       "96425  ABNd.AS  2018-08-06T00:00:00Z  1.12898677627438\n",
       "\n",
       "[96426 rows x 3 columns]"
      ]
     },
     "execution_count": 9,
     "metadata": {},
     "output_type": "execute_result"
    }
   ],
   "source": [
    "p2b = get_data.get_price_to_book(ric_equity)\n",
    "p2b"
   ]
  },
  {
   "cell_type": "code",
   "execution_count": 10,
   "metadata": {},
   "outputs": [],
   "source": [
    "utils.export_csv(p2b, \"dataset_p2b\")"
   ]
  }
 ],
 "metadata": {
  "kernelspec": {
   "display_name": "base",
   "language": "python",
   "name": "python3"
  },
  "language_info": {
   "codemirror_mode": {
    "name": "ipython",
    "version": 3
   },
   "file_extension": ".py",
   "mimetype": "text/x-python",
   "name": "python",
   "nbconvert_exporter": "python",
   "pygments_lexer": "ipython3",
   "version": "3.9.12"
  },
  "orig_nbformat": 4,
  "vscode": {
   "interpreter": {
    "hash": "2589fde035ed90069b41672d52289f5ead2bf40a3c28086a5b4efe12027fc930"
   }
  }
 },
 "nbformat": 4,
 "nbformat_minor": 2
}

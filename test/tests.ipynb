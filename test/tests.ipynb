{
 "cells": [
  {
   "cell_type": "code",
   "execution_count": 1,
   "metadata": {},
   "outputs": [],
   "source": [
    "import sys\n",
    "sys.path.append(\"../\")\n",
    "import get_data\n",
    "import config\n",
    "import utils"
   ]
  },
  {
   "cell_type": "code",
   "execution_count": 2,
   "metadata": {},
   "outputs": [
    {
     "name": "stdout",
     "output_type": "stream",
     "text": [
      "test2 asdf\n"
     ]
    }
   ],
   "source": [
    "get_data.test2()"
   ]
  },
  {
   "cell_type": "code",
   "execution_count": 3,
   "metadata": {},
   "outputs": [],
   "source": [
    "config.connect()"
   ]
  },
  {
   "cell_type": "code",
   "execution_count": 4,
   "metadata": {},
   "outputs": [],
   "source": [
    "banks_meta = get_data.read_meta()"
   ]
  },
  {
   "cell_type": "code",
   "execution_count": 5,
   "metadata": {},
   "outputs": [
    {
     "name": "stdout",
     "output_type": "stream",
     "text": [
      "no RIC available for Piraeus Financial Holdings S.A.\n",
      "no RIC available for Bank of Cyprus Holdings Public Limited Company\n",
      "no RIC available for Akcinė bendrovė Šiaulių bankas\n",
      "no RIC available for BAWAG Group AG\n",
      "no RIC available for Erste Group Bank AG\n",
      "no RIC available for Raiffeisen Bank International AG\n",
      "no RIC available for Banco Comercial Português, S.A.\n",
      "no RIC available for Nova Ljubljanska banka d.d., Ljubljana\n"
     ]
    },
    {
     "data": {
      "text/plain": [
       "['JPM.N', 'BAC.N', 'C.N', 'HSBC.N', '3988.HK']"
      ]
     },
     "execution_count": 5,
     "metadata": {},
     "output_type": "execute_result"
    }
   ],
   "source": [
    "ric_equity = get_data.ric_equity(banks_meta)\n",
    "ric_equity[0:5]"
   ]
  },
  {
   "cell_type": "code",
   "execution_count": 6,
   "metadata": {},
   "outputs": [
    {
     "data": {
      "text/plain": [
       "['JPM5YUSAX=R', 'BAC5YUSAX=R', 'C5YUSAX=R', 'HSBA5YEUAM=R', 'BKCH5YUSAC=R']"
      ]
     },
     "execution_count": 6,
     "metadata": {},
     "output_type": "execute_result"
    }
   ],
   "source": [
    "ric_cds = get_data.ric_cds(ric_equity)\n",
    "ric_cds[0:5]"
   ]
  },
  {
   "cell_type": "code",
   "execution_count": 7,
   "metadata": {},
   "outputs": [
    {
     "name": "stderr",
     "output_type": "stream",
     "text": [
      "2024-04-18 16:27:21,144 P[50220] [MainThread 8400272064] Backend error. 500 Internal Server Error\n",
      "2024-04-18 16:27:21,367 P[50220] [MainThread 8400272064] Backend error. 500 Internal Server Error\n",
      "2024-04-18 16:27:21,578 P[50220] [MainThread 8400272064] Backend error. 500 Internal Server Error\n",
      "2024-04-18 16:27:44,645 P[50220] [MainThread 8400272064] Backend error. 500 Internal Server Error\n",
      "2024-04-18 16:28:03,796 P[50220] [MainThread 8400272064] UDF Core request failed. Gateway Time-out\n",
      "2024-04-18 16:28:15,097 P[50220] [MainThread 8400272064] Backend error. 500 Internal Server Error\n",
      "2024-04-18 16:28:30,311 P[50220] [MainThread 8400272064] Backend error. 500 Internal Server Error\n",
      "2024-04-18 16:28:40,633 P[50220] [MainThread 8400272064] Error with MTFB5YJPAC=R: No data available for the requested date range\n",
      "2024-04-18 16:28:40,634 P[50220] [MainThread 8400272064] MTFB5YJPAC=R: No data available for the requested date range | \n",
      "2024-04-18 16:28:46,479 P[50220] [MainThread 8400272064] Error with MTFB5YJPAC=R: No data available for the requested date range\n",
      "2024-04-18 16:28:46,480 P[50220] [MainThread 8400272064] MTFB5YJPAC=R: No data available for the requested date range | \n",
      "2024-04-18 16:28:46,881 P[50220] [MainThread 8400272064] Error with AGBK5YUSAC=: No data available for the requested date range\n",
      "2024-04-18 16:28:46,881 P[50220] [MainThread 8400272064] AGBK5YUSAC=: No data available for the requested date range | \n",
      "2024-04-18 16:28:47,200 P[50220] [MainThread 8400272064] Error with AGBK5YUSAC=: No data available for the requested date range\n",
      "2024-04-18 16:28:47,201 P[50220] [MainThread 8400272064] AGBK5YUSAC=: No data available for the requested date range | \n",
      "2024-04-18 16:28:47,629 P[50220] [MainThread 8400272064] Error with BK5YUSAX=MG: No data available for the requested date range\n",
      "2024-04-18 16:28:47,630 P[50220] [MainThread 8400272064] BK5YUSAX=MG: No data available for the requested date range | \n",
      "2024-04-18 16:28:57,247 P[50220] [MainThread 8400272064] Error with MZFG5YJPAC=: No data available for the requested date range\n",
      "2024-04-18 16:28:57,248 P[50220] [MainThread 8400272064] MZFG5YJPAC=: No data available for the requested date range | \n",
      "2024-04-18 16:29:03,898 P[50220] [MainThread 8400272064] Error with RY5YUSAX=R: No data available for the requested date range\n",
      "2024-04-18 16:29:03,899 P[50220] [MainThread 8400272064] RY5YUSAX=R: No data available for the requested date range | \n",
      "2024-04-18 16:29:04,965 P[50220] [MainThread 8400272064] Error with RY5YUSAX=R: No data available for the requested date range\n",
      "2024-04-18 16:29:04,966 P[50220] [MainThread 8400272064] RY5YUSAX=R: No data available for the requested date range | \n",
      "2024-04-18 16:29:08,967 P[50220] [MainThread 8400272064] Backend error. 500 Internal Server Error\n",
      "2024-04-18 16:29:28,612 P[50220] [MainThread 8400272064] Error with SUMB5YUSAC=MP: The user does not have permission for the requested data\n",
      "2024-04-18 16:29:28,613 P[50220] [MainThread 8400272064] SUMB5YUSAC=MP: The user does not have permission for the requested data | \n",
      "2024-04-18 16:29:28,832 P[50220] [MainThread 8400272064] Error with SUMB5YUSAC=MP: The user does not have permission for the requested data\n",
      "2024-04-18 16:29:28,833 P[50220] [MainThread 8400272064] SUMB5YUSAC=MP: The user does not have permission for the requested data | \n",
      "2024-04-18 16:29:29,040 P[50220] [MainThread 8400272064] Backend error. 500 Internal Server Error\n",
      "2024-04-18 16:29:59,258 P[50220] [MainThread 8400272064] Backend error. 500 Internal Server Error\n",
      "2024-04-18 16:29:59,438 P[50220] [MainThread 8400272064] Backend error. 500 Internal Server Error\n",
      "2024-04-18 16:30:03,229 P[50220] [MainThread 8400272064] Error with KBC5YEUAM=MP: The user does not have permission for the requested data\n",
      "2024-04-18 16:30:03,230 P[50220] [MainThread 8400272064] KBC5YEUAM=MP: The user does not have permission for the requested data | \n",
      "2024-04-18 16:30:22,399 P[50220] [MainThread 8400272064] UDF Core request failed. Gateway Time-out\n",
      "2024-04-18 16:30:22,608 P[50220] [MainThread 8400272064] Backend error. 500 Internal Server Error\n",
      "2024-04-18 16:30:22,866 P[50220] [MainThread 8400272064] Backend error. 500 Internal Server Error\n",
      "2024-04-18 16:30:23,403 P[50220] [MainThread 8400272064] Backend error. 500 Internal Server Error\n",
      "2024-04-18 16:30:40,618 P[50220] [MainThread 8400272064] Backend error. 500 Internal Server Error\n",
      "2024-04-18 16:30:40,859 P[50220] [MainThread 8400272064] Backend error. 500 Internal Server Error\n",
      "2024-04-18 16:30:41,059 P[50220] [MainThread 8400272064] Backend error. 500 Internal Server Error\n",
      "2024-04-18 16:30:56,537 P[50220] [MainThread 8400272064] Error with AAHR5YEUAM=MP: The user does not have permission for the requested data\n",
      "2024-04-18 16:30:56,538 P[50220] [MainThread 8400272064] AAHR5YEUAM=MP: The user does not have permission for the requested data | \n"
     ]
    },
    {
     "data": {
      "text/html": [
       "<div>\n",
       "<style scoped>\n",
       "    .dataframe tbody tr th:only-of-type {\n",
       "        vertical-align: middle;\n",
       "    }\n",
       "\n",
       "    .dataframe tbody tr th {\n",
       "        vertical-align: top;\n",
       "    }\n",
       "\n",
       "    .dataframe thead th {\n",
       "        text-align: right;\n",
       "    }\n",
       "</style>\n",
       "<table border=\"1\" class=\"dataframe\">\n",
       "  <thead>\n",
       "    <tr style=\"text-align: right;\">\n",
       "      <th></th>\n",
       "      <th>DATE</th>\n",
       "      <th>CLOSE</th>\n",
       "      <th>RIC</th>\n",
       "    </tr>\n",
       "  </thead>\n",
       "  <tbody>\n",
       "    <tr>\n",
       "      <th>0</th>\n",
       "      <td>2012-01-01</td>\n",
       "      <td>None</td>\n",
       "      <td>JPM5YUSAX=R</td>\n",
       "    </tr>\n",
       "    <tr>\n",
       "      <th>0</th>\n",
       "      <td>2012-01-01</td>\n",
       "      <td>None</td>\n",
       "      <td>BAC5YUSAX=R</td>\n",
       "    </tr>\n",
       "    <tr>\n",
       "      <th>0</th>\n",
       "      <td>2012-01-01</td>\n",
       "      <td>None</td>\n",
       "      <td>C5YUSAX=R</td>\n",
       "    </tr>\n",
       "    <tr>\n",
       "      <th>0</th>\n",
       "      <td>2012-01-02 00:00:00</td>\n",
       "      <td>147.06</td>\n",
       "      <td>HSBA5YEUAM=R</td>\n",
       "    </tr>\n",
       "    <tr>\n",
       "      <th>1</th>\n",
       "      <td>2012-01-03 00:00:00</td>\n",
       "      <td>142.45</td>\n",
       "      <td>HSBA5YEUAM=R</td>\n",
       "    </tr>\n",
       "    <tr>\n",
       "      <th>...</th>\n",
       "      <td>...</td>\n",
       "      <td>...</td>\n",
       "      <td>...</td>\n",
       "    </tr>\n",
       "    <tr>\n",
       "      <th>2979</th>\n",
       "      <td>2023-06-27 00:00:00</td>\n",
       "      <td>104.96</td>\n",
       "      <td>MDBI5YEUAM=R</td>\n",
       "    </tr>\n",
       "    <tr>\n",
       "      <th>2980</th>\n",
       "      <td>2023-06-28 00:00:00</td>\n",
       "      <td>103.46</td>\n",
       "      <td>MDBI5YEUAM=R</td>\n",
       "    </tr>\n",
       "    <tr>\n",
       "      <th>2981</th>\n",
       "      <td>2023-06-29 00:00:00</td>\n",
       "      <td>100.99</td>\n",
       "      <td>MDBI5YEUAM=R</td>\n",
       "    </tr>\n",
       "    <tr>\n",
       "      <th>2982</th>\n",
       "      <td>2023-06-30 00:00:00</td>\n",
       "      <td>97.02</td>\n",
       "      <td>MDBI5YEUAM=R</td>\n",
       "    </tr>\n",
       "    <tr>\n",
       "      <th>0</th>\n",
       "      <td>2012-01-01</td>\n",
       "      <td>None</td>\n",
       "      <td>AAHR5YEUAM=MP</td>\n",
       "    </tr>\n",
       "  </tbody>\n",
       "</table>\n",
       "<p>51564 rows × 3 columns</p>\n",
       "</div>"
      ],
      "text/plain": [
       "                     DATE   CLOSE            RIC\n",
       "0              2012-01-01    None    JPM5YUSAX=R\n",
       "0              2012-01-01    None    BAC5YUSAX=R\n",
       "0              2012-01-01    None      C5YUSAX=R\n",
       "0     2012-01-02 00:00:00  147.06   HSBA5YEUAM=R\n",
       "1     2012-01-03 00:00:00  142.45   HSBA5YEUAM=R\n",
       "...                   ...     ...            ...\n",
       "2979  2023-06-27 00:00:00  104.96   MDBI5YEUAM=R\n",
       "2980  2023-06-28 00:00:00  103.46   MDBI5YEUAM=R\n",
       "2981  2023-06-29 00:00:00  100.99   MDBI5YEUAM=R\n",
       "2982  2023-06-30 00:00:00   97.02   MDBI5YEUAM=R\n",
       "0              2012-01-01    None  AAHR5YEUAM=MP\n",
       "\n",
       "[51564 rows x 3 columns]"
      ]
     },
     "execution_count": 7,
     "metadata": {},
     "output_type": "execute_result"
    }
   ],
   "source": [
    "cds = get_data.get_cds(ric_cds)\n",
    "cds"
   ]
  },
  {
   "cell_type": "code",
   "execution_count": 8,
   "metadata": {},
   "outputs": [],
   "source": [
    "utils.export_csv(cds, \"dataset_cds\")"
   ]
  },
  {
   "cell_type": "code",
   "execution_count": null,
   "metadata": {},
   "outputs": [],
   "source": [
    "p2b = get_data.get_price_to_book(ric_equity)\n",
    "p2b"
   ]
  }
 ],
 "metadata": {
  "kernelspec": {
   "display_name": "base",
   "language": "python",
   "name": "python3"
  },
  "language_info": {
   "codemirror_mode": {
    "name": "ipython",
    "version": 3
   },
   "file_extension": ".py",
   "mimetype": "text/x-python",
   "name": "python",
   "nbconvert_exporter": "python",
   "pygments_lexer": "ipython3",
   "version": "3.9.12"
  },
  "orig_nbformat": 4,
  "vscode": {
   "interpreter": {
    "hash": "2589fde035ed90069b41672d52289f5ead2bf40a3c28086a5b4efe12027fc930"
   }
  }
 },
 "nbformat": 4,
 "nbformat_minor": 2
}

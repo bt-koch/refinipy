{
 "cells": [
  {
   "cell_type": "code",
   "execution_count": null,
   "metadata": {},
   "outputs": [],
   "source": [
    "import refinipy"
   ]
  }
 ],
 "metadata": {
  "kernelspec": {
   "display_name": "base",
   "language": "python",
   "name": "python3"
  },
  "language_info": {
   "name": "python",
   "version": "3.9.12"
  },
  "orig_nbformat": 4,
  "vscode": {
   "interpreter": {
    "hash": "2589fde035ed90069b41672d52289f5ead2bf40a3c28086a5b4efe12027fc930"
   }
  }
 },
 "nbformat": 4,
 "nbformat_minor": 2
}
